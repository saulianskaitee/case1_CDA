{
 "cells": [
  {
   "cell_type": "markdown",
   "metadata": {},
   "source": [
    "# Partial Least Squares"
   ]
  },
  {
   "cell_type": "markdown",
   "metadata": {},
   "source": [
    "### Import necessary modules for PLS"
   ]
  },
  {
   "cell_type": "code",
   "execution_count": 1,
   "metadata": {},
   "outputs": [],
   "source": [
    "import pandas as pd\n",
    "import numpy as np\n",
    "from sklearn.preprocessing import StandardScaler, MinMaxScaler\n",
    "from sklearn.cross_decomposition import PLSRegression\n",
    "from sklearn.impute import KNNImputer, SimpleImputer\n",
    "from sklearn.metrics import mean_squared_error, r2_score, root_mean_squared_error\n",
    "import matplotlib.pyplot as plt\n",
    "import seaborn as sns\n",
    "from sklearn.model_selection import RepeatedKFold, train_test_split, GridSearchCV, learning_curve, KFold"
   ]
  },
  {
   "cell_type": "markdown",
   "metadata": {},
   "source": [
    "### Load dataframe"
   ]
  },
  {
   "cell_type": "code",
   "execution_count": 2,
   "metadata": {},
   "outputs": [
    {
     "name": "stdout",
     "output_type": "stream",
     "text": [
      "Shape of X: 100 samples, 116 features\n"
     ]
    },
    {
     "data": {
      "text/html": [
       "<div>\n",
       "<style scoped>\n",
       "    .dataframe tbody tr th:only-of-type {\n",
       "        vertical-align: middle;\n",
       "    }\n",
       "\n",
       "    .dataframe tbody tr th {\n",
       "        vertical-align: top;\n",
       "    }\n",
       "\n",
       "    .dataframe thead th {\n",
       "        text-align: right;\n",
       "    }\n",
       "</style>\n",
       "<table border=\"1\" class=\"dataframe\">\n",
       "  <thead>\n",
       "    <tr style=\"text-align: right;\">\n",
       "      <th></th>\n",
       "      <th>x_01</th>\n",
       "      <th>x_02</th>\n",
       "      <th>x_03</th>\n",
       "      <th>x_04</th>\n",
       "      <th>x_05</th>\n",
       "      <th>x_06</th>\n",
       "      <th>x_07</th>\n",
       "      <th>x_08</th>\n",
       "      <th>x_09</th>\n",
       "      <th>x_10</th>\n",
       "      <th>...</th>\n",
       "      <th>C_04_0.0</th>\n",
       "      <th>C_04_1.0</th>\n",
       "      <th>C_04_2.0</th>\n",
       "      <th>C_04_3.0</th>\n",
       "      <th>C_04_4.0</th>\n",
       "      <th>C_05_0.0</th>\n",
       "      <th>C_05_1.0</th>\n",
       "      <th>C_05_2.0</th>\n",
       "      <th>C_05_3.0</th>\n",
       "      <th>C_05_4.0</th>\n",
       "    </tr>\n",
       "  </thead>\n",
       "  <tbody>\n",
       "    <tr>\n",
       "      <th>0</th>\n",
       "      <td>1.320635</td>\n",
       "      <td>-1.245359</td>\n",
       "      <td>0.580798</td>\n",
       "      <td>-0.208784</td>\n",
       "      <td>0.879537</td>\n",
       "      <td>-0.147866</td>\n",
       "      <td>-1.384418</td>\n",
       "      <td>-0.098386</td>\n",
       "      <td>0.973221</td>\n",
       "      <td>-1.825075</td>\n",
       "      <td>...</td>\n",
       "      <td>0</td>\n",
       "      <td>0</td>\n",
       "      <td>1</td>\n",
       "      <td>0</td>\n",
       "      <td>0</td>\n",
       "      <td>0</td>\n",
       "      <td>0</td>\n",
       "      <td>1</td>\n",
       "      <td>0</td>\n",
       "      <td>0</td>\n",
       "    </tr>\n",
       "    <tr>\n",
       "      <th>1</th>\n",
       "      <td>0.379658</td>\n",
       "      <td>0.877093</td>\n",
       "      <td>0.371622</td>\n",
       "      <td>1.057238</td>\n",
       "      <td>0.739473</td>\n",
       "      <td>1.797215</td>\n",
       "      <td>-0.031937</td>\n",
       "      <td>0.119855</td>\n",
       "      <td>1.822758</td>\n",
       "      <td>0.719912</td>\n",
       "      <td>...</td>\n",
       "      <td>0</td>\n",
       "      <td>0</td>\n",
       "      <td>1</td>\n",
       "      <td>0</td>\n",
       "      <td>0</td>\n",
       "      <td>0</td>\n",
       "      <td>0</td>\n",
       "      <td>1</td>\n",
       "      <td>0</td>\n",
       "      <td>0</td>\n",
       "    </tr>\n",
       "    <tr>\n",
       "      <th>2</th>\n",
       "      <td>0.910528</td>\n",
       "      <td>-0.683362</td>\n",
       "      <td>0.990018</td>\n",
       "      <td>0.436947</td>\n",
       "      <td>0.426031</td>\n",
       "      <td>-0.335860</td>\n",
       "      <td>-1.540555</td>\n",
       "      <td>0.132341</td>\n",
       "      <td>0.670108</td>\n",
       "      <td>0.577881</td>\n",
       "      <td>...</td>\n",
       "      <td>0</td>\n",
       "      <td>0</td>\n",
       "      <td>0</td>\n",
       "      <td>1</td>\n",
       "      <td>0</td>\n",
       "      <td>0</td>\n",
       "      <td>0</td>\n",
       "      <td>0</td>\n",
       "      <td>1</td>\n",
       "      <td>0</td>\n",
       "    </tr>\n",
       "  </tbody>\n",
       "</table>\n",
       "<p>3 rows × 116 columns</p>\n",
       "</div>"
      ],
      "text/plain": [
       "       x_01      x_02      x_03      x_04      x_05      x_06      x_07  \\\n",
       "0  1.320635 -1.245359  0.580798 -0.208784  0.879537 -0.147866 -1.384418   \n",
       "1  0.379658  0.877093  0.371622  1.057238  0.739473  1.797215 -0.031937   \n",
       "2  0.910528 -0.683362  0.990018  0.436947  0.426031 -0.335860 -1.540555   \n",
       "\n",
       "       x_08      x_09      x_10  ...  C_04_0.0  C_04_1.0  C_04_2.0  C_04_3.0  \\\n",
       "0 -0.098386  0.973221 -1.825075  ...         0         0         1         0   \n",
       "1  0.119855  1.822758  0.719912  ...         0         0         1         0   \n",
       "2  0.132341  0.670108  0.577881  ...         0         0         0         1   \n",
       "\n",
       "   C_04_4.0  C_05_0.0  C_05_1.0  C_05_2.0  C_05_3.0  C_05_4.0  \n",
       "0         0         0         0         1         0         0  \n",
       "1         0         0         0         1         0         0  \n",
       "2         0         0         0         0         1         0  \n",
       "\n",
       "[3 rows x 116 columns]"
      ]
     },
     "execution_count": 2,
     "metadata": {},
     "output_type": "execute_result"
    }
   ],
   "source": [
    "df_data = pd.read_csv(\"df_1hot.csv\")\n",
    "Y = df_data.iloc[:, 0]\n",
    "X = df_data.iloc[:, 1 :]\n",
    "\n",
    "n, p = X.shape\n",
    "print(f\"Shape of X: {n} samples, {p} features\")\n",
    "X.head(3)"
   ]
  },
  {
   "cell_type": "markdown",
   "metadata": {},
   "source": [
    "### Imputing missing values"
   ]
  },
  {
   "cell_type": "code",
   "execution_count": 3,
   "metadata": {},
   "outputs": [],
   "source": [
    "def fill_NaNs_KNN(dataframe):\n",
    "    X_cat = dataframe[[col for col in dataframe.columns if col.startswith('C_')]]\n",
    "    X_cont = dataframe[[col for col in dataframe.columns if col.startswith('x_')]]\n",
    "\n",
    "    ### 1. Fill NaN vlaues in continuous columns (X_cont)\n",
    "    scaler = StandardScaler()\n",
    "    scaled_X_cont = scaler.fit_transform(X_cont)\n",
    "    knn_imputer = KNNImputer(n_neighbors=5)\n",
    "    X_cont_imputed = knn_imputer.fit_transform(scaled_X_cont)\n",
    "    X_cont_imputed = pd.DataFrame(X_cont_imputed, columns=X_cont.columns)\n",
    "\n",
    "    ### 2. Fill NaN vlaues for the categorical columns (X_cat)\n",
    "    #cat_imputer = SimpleImputer(strategy=\"most_frequent\")\n",
    "    #X_cat_imputed = cat_imputer.fit_transform(X_cat)\n",
    "    #X_cat_imputed = pd.DataFrame(X_cat_imputed, columns=X_cat.columns)\n",
    "\n",
    "    ### 4. 1-HOT-encoding of categorical columns\n",
    "    #X_cat_imputed_1HOT = pd.get_dummies(X_cat_imputed, columns=X_cat_imputed.columns, drop_first=False).astype(int)\n",
    "    \n",
    "    ### 5. Merging y, X_con_imputed (standartized and NaN filled) and X_con_imputed_1HOT (NaN filled and relabelled, 1hotencoded)\n",
    "    df_trans = pd.concat([X_cont_imputed.reset_index(drop=True), X_cat.reset_index(drop=True)], axis=1)\n",
    "\n",
    "    return df_trans, df_trans.shape, scaler\n",
    "\n",
    "def centerData_y(y):\n",
    "    \n",
    "    y_mu = np.mean(y,axis=0)\n",
    "    y_centr = y - y_mu\n",
    "    \n",
    "    return y_centr, y_mu\n",
    "\n",
    "def cont_cat(dataframe):\n",
    "    X_cat = dataframe[[col for col in dataframe.columns if col.startswith('C_')]]\n",
    "    X_cont = dataframe[[col for col in dataframe.columns if col.startswith('x_')]]\n",
    "\n",
    "    return X_cont, X_cat\n",
    "\n",
    "def align_columns(Xtrain, Xtest):\n",
    "    # Find columns in Xtrain and Xtest\n",
    "    missing_in_Xtrain = set(Xtest.columns) - set(Xtrain.columns)\n",
    "    missing_in_Xtest = set(Xtrain.columns) - set(Xtest.columns)\n",
    "    \n",
    "    # Add missing columns to the respective DataFrames\n",
    "    for col in missing_in_Xtrain:\n",
    "        Xtrain[col] = np.nan  # or you can use 0 if preferred\n",
    "    \n",
    "    for col in missing_in_Xtest:\n",
    "        Xtest[col] = np.nan  # or you can use 0 if preferred\n",
    "\n",
    "    # Ensure columns are in the same order\n",
    "    Xtrain = Xtrain[Xtest.columns]\n",
    "\n",
    "    return Xtrain, Xtest"
   ]
  },
  {
   "cell_type": "markdown",
   "metadata": {},
   "source": [
    "### Data split"
   ]
  },
  {
   "cell_type": "code",
   "execution_count": 4,
   "metadata": {},
   "outputs": [
    {
     "data": {
      "text/plain": [
       "'\\n# Handle missing values\\nXtrain, shape, scaler = fill_NaNs_KNN(Xtrain)\\n\\n# Preprocess test set using the same transformations\\nX_cont, X_cat = cont_cat(Xtest)\\nX_cont = pd.DataFrame(scaler.transform(X_cont), columns=X_cont.columns)\\nXtest = pd.concat([X_cont.reset_index(drop=True), X_cat.reset_index(drop=True)], axis=1)\\nXtest, ___, ___  = fill_NaNs_KNN(Xtest)\\n\\n# Center the target variable\\nytrain, y_mu = centerData_y(ytrain)\\nytest = ytest - y_mu\\n'"
      ]
     },
     "execution_count": 4,
     "metadata": {},
     "output_type": "execute_result"
    }
   ],
   "source": [
    "Xtrain, Xtest, ytrain, ytest = train_test_split(X, Y, test_size=0.2,  random_state=42)\n",
    "\n",
    "\"\"\"\n",
    "# Handle missing values\n",
    "Xtrain, shape, scaler = fill_NaNs_KNN(Xtrain)\n",
    "\n",
    "# Preprocess test set using the same transformations\n",
    "X_cont, X_cat = cont_cat(Xtest)\n",
    "X_cont = pd.DataFrame(scaler.transform(X_cont), columns=X_cont.columns)\n",
    "Xtest = pd.concat([X_cont.reset_index(drop=True), X_cat.reset_index(drop=True)], axis=1)\n",
    "Xtest, ___, ___  = fill_NaNs_KNN(Xtest)\n",
    "\n",
    "# Center the target variable\n",
    "ytrain, y_mu = centerData_y(ytrain)\n",
    "ytest = ytest - y_mu\n",
    "\"\"\""
   ]
  },
  {
   "cell_type": "markdown",
   "metadata": {},
   "source": [
    "### PLS"
   ]
  },
  {
   "cell_type": "code",
   "execution_count": 5,
   "metadata": {},
   "outputs": [
    {
     "name": "stdout",
     "output_type": "stream",
     "text": [
      "Mean Squared Error: 2012.0572221255547\n",
      "R-squared: 0.6916678555534304\n",
      "Root Mean Squared Error: 44.855960831594665\n"
     ]
    },
    {
     "data": {
      "image/png": "[encoded data removed]",
      "text/plain": [
       "<Figure size 640x480 with 1 Axes>"
      ]
     },
     "metadata": {},
     "output_type": "display_data"
    }
   ],
   "source": [
    "# Uncomment and adjust the preprocessing steps as needed\n",
    "# Handle missing values\n",
    "Xtrain, shape, scaler = fill_NaNs_KNN(Xtrain)\n",
    "\n",
    "# Preprocess test set using the same transformations\n",
    "X_cont, X_cat = cont_cat(Xtest)\n",
    "X_cont = pd.DataFrame(scaler.transform(X_cont), columns=X_cont.columns)\n",
    "Xtest = pd.concat([X_cont.reset_index(drop=True), X_cat.reset_index(drop=True)], axis=1)\n",
    "Xtest, ___, ___  = fill_NaNs_KNN(Xtest)\n",
    "\n",
    "# Center the target variable\n",
    "ytrain, y_mu = centerData_y(ytrain)\n",
    "ytest = ytest - y_mu\n",
    "\n",
    "# Align columns in training and testing sets\n",
    "Xtrain, Xtest = align_columns(Xtrain, Xtest)\n",
    "\n",
    "# Initialize and fit the PLS model\n",
    "pls = PLSRegression(n_components=4)  # Choose the number of components\n",
    "pls.fit(Xtrain, ytrain)\n",
    "\n",
    "# Make predictions\n",
    "y_pred = pls.predict(Xtest)\n",
    "\n",
    "# Evaluate the model\n",
    "mse = mean_squared_error(ytest, y_pred)\n",
    "r2 = r2_score(ytest, y_pred)\n",
    "rmse = root_mean_squared_error(ytest, y_pred)\n",
    "print(f'Mean Squared Error: {mse}')\n",
    "print(f'R-squared: {r2}')\n",
    "print(f'Root Mean Squared Error: {rmse}')\n",
    "\n",
    "# Plot the results\n",
    "plt.scatter(ytest, y_pred)\n",
    "plt.xlabel(\"True Values\")\n",
    "plt.ylabel(\"Predictions\")\n",
    "plt.show()"
   ]
  },
  {
   "cell_type": "code",
   "execution_count": 23,
   "metadata": {},
   "outputs": [
    {
     "data": {
      "text/plain": [
       "array([ 1,  2,  3,  4,  5,  6,  7,  8,  9, 10, 11, 12, 13, 14, 15, 16, 17,\n",
       "       18, 19, 20, 21, 22, 23, 24, 25, 26, 27, 28, 29, 30, 31, 32, 33, 34,\n",
       "       35, 36, 37, 38, 39, 40, 41, 42, 43, 44, 45, 46, 47, 48, 49, 50, 51,\n",
       "       52, 53, 54, 55, 56, 57, 58, 59, 60, 61, 62, 63, 64, 65, 66, 67, 68,\n",
       "       69, 70, 71, 72, 73, 74, 75, 76, 77, 78, 79, 80, 81, 82, 83, 84, 85,\n",
       "       86, 87, 88, 89, 90, 91, 92, 93, 94, 95, 96, 97, 98, 99])"
      ]
     },
     "execution_count": 23,
     "metadata": {},
     "output_type": "execute_result"
    }
   ],
   "source": [
    "np.arange(1,100,1)"
   ]
  },
  {
   "cell_type": "code",
   "execution_count": 30,
   "metadata": {},
   "outputs": [
    {
     "name": "stdout",
     "output_type": "stream",
     "text": [
      "Best parameters for Ridge:  {'n_components': 4}\n",
      "Best cross-validation score: 0.4852\n",
      "R² Score on the test dataset: 0.6866\n",
      "MSE on the test dataset: 2045.0896\n",
      "RMSE on the test dataset: 45.2227\n"
     ]
    },
    {
     "data": {
      "image/png": "[encoded data removed]",
      "text/plain": [
       "<Figure size 600x300 with 1 Axes>"
      ]
     },
     "metadata": {},
     "output_type": "display_data"
    },
    {
     "name": "stdout",
     "output_type": "stream",
     "text": [
      "Best estimator: PLSRegression(n_components=4)\n"
     ]
    }
   ],
   "source": [
    "# Split the data\n",
    "Xtrain, Xtest, ytrain, ytest = train_test_split(X, Y, test_size=0.2, random_state=42)\n",
    "\n",
    "# Initialize and fit the PLS model\n",
    "pls = PLSRegression(n_components=4)  # Choose the number of components\n",
    "#pls.fit(Xtrain, ytrain)\n",
    "\n",
    "# Define the hyperparameter grid for alpha\n",
    "param_pls_pc = {\n",
    "    'n_components': np.arange(1,101,1)\n",
    "    }\n",
    "\n",
    "# Define KFold cross-validation\n",
    "cv = KFold(n_splits=10, shuffle=True, random_state=42)\n",
    "#cv = LeaveOneOut()\n",
    "\n",
    "# Use GridSearchCV with the KFold object\n",
    "PLS_ = GridSearchCV(pls, param_pls_pc, cv=cv, n_jobs=-1, return_train_score=True, scoring='r2')\n",
    "\n",
    "# Fit the GridSearchCV\n",
    "PLS_.fit(Xtrain, ytrain)\n",
    "\n",
    "# Print best parameters and best cross-validation score\n",
    "print(\"Best parameters for Ridge: \", PLS_.best_params_)\n",
    "print(\"Best cross-validation score: {:.4f}\".format(PLS_.best_score_))\n",
    "\n",
    "# Evaluate the best model on the test data\n",
    "best_model_ridge = PLS_.best_estimator_\n",
    "y_pred_pls = best_model_ridge.predict(Xtest)\n",
    "\n",
    "# Calculate R² score on test set\n",
    "test_R2 = r2_score(ytest, y_pred_pls)\n",
    "test_MSE = mean_squared_error(ytest, y_pred_pls)\n",
    "test_RMSE = root_mean_squared_error(ytest, y_pred_pls)\n",
    "\n",
    "print(\"R² Score on the test dataset: {:.4f}\".format(test_R2))\n",
    "print(\"MSE on the test dataset: {:.4f}\".format(test_MSE))\n",
    "print(\"RMSE on the test dataset: {:.4f}\".format(test_RMSE))\n",
    "\n",
    "# Get the mean test scores from the cross-validation results\n",
    "n_components = np.arange(1,101,1)\n",
    "mean_test_scores = PLS_.cv_results_['mean_test_score']\n",
    "\n",
    "# Plot the results of hyperparameter tuning\n",
    "plt.figure(figsize=(6, 3))\n",
    "plt.plot(n_components, mean_test_scores, linestyle='-', color='b', label='R² Score')\n",
    "plt.axvline(PLS_.best_params_['n_components'], color='r', linestyle='--', label=f\"Best: {PLS_.best_params_['n_components']}\")\n",
    "plt.xlabel('Number of PCs')\n",
    "plt.ylabel('R² Score')\n",
    "plt.title('PC Tuning')\n",
    "plt.legend()\n",
    "plt.grid(True, linestyle='--', alpha=0.5)\n",
    "plt.show()\n",
    "\n",
    "# Print best estimator\n",
    "print(f'Best estimator: {PLS_.best_estimator_}')"
   ]
  }
 ],
 "metadata": {
  "kernelspec": {
   "display_name": "base",
   "language": "python",
   "name": "python3"
  },
  "language_info": {
   "codemirror_mode": {
    "name": "ipython",
    "version": 3
   },
   "file_extension": ".py",
   "mimetype": "text/x-python",
   "name": "python",
   "nbconvert_exporter": "python",
   "pygments_lexer": "ipython3",
   "version": "3.12.4"
  }
 },
 "nbformat": 4,
 "nbformat_minor": 2
}
