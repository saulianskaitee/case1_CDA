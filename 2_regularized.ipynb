{
 "cells": [
  {
   "cell_type": "markdown",
   "metadata": {},
   "source": [
    "## Imports"
   ]
  },
  {
   "cell_type": "code",
   "execution_count": 187,
   "metadata": {},
   "outputs": [],
   "source": [
    "import pandas as pd\n",
    "import numpy as np\n",
    "import matplotlib.pyplot as plt\n",
    "import warnings\n",
    "from sklearn.model_selection import train_test_split, GridSearchCV, RepeatedKFold\n",
    "from sklearn.linear_model import ElasticNet, Ridge, Lasso\n",
    "from sklearn.impute import KNNImputer, SimpleImputer\n",
    "from sklearn.metrics import r2_score\n",
    "from sklearn.model_selection import learning_curve\n",
    "from sklearn.preprocessing import StandardScaler, MinMaxScaler\n",
    "import seaborn as sns\n",
    "\n",
    "\n",
    "# another way of ignoring warnings\n",
    "warnings.filterwarnings('ignore')"
   ]
  },
  {
   "cell_type": "markdown",
   "metadata": {},
   "source": [
    "#### Loading dataset"
   ]
  },
  {
   "cell_type": "code",
   "execution_count": 169,
   "metadata": {},
   "outputs": [],
   "source": [
    "df_ = pd.read_csv(\"df_1hot.csv\")\n",
    "X = df_.iloc[:, 1:]\n",
    "y = df_.iloc[:, 0]"
   ]
  },
  {
   "cell_type": "markdown",
   "metadata": {},
   "source": [
    "#### Dealing with NaN values\n",
    "##### Instead of filling NaN values with mean of the predictor, use KNN Imputer (Scikit-Learn).\n",
    "\n",
    "This imputer utilizes the k-Nearest Neighbors method to replace the missing values in the datasets with the mean value from the parameter ‘n_neighbors’ nearest neighbors found in the training set. By default, it uses a Euclidean distance metric to impute the missing values.\n",
    "\n",
    "Another critical point here is that the KNN Imptuer is a distance-based imputation method and it requires us to **normalize** our data. Otherwise, the different scales of our data will lead the KNN Imputer to generate biased replacements for the missing values. For simplicity, we will use Scikit-Learn’s MinMaxScaler which will scale our variables to have values between 0 and 1.\n",
    "\n",
    "We are setting the parameter ‘n_neighbors’ as 5. So, the missing values will be replaced by the mean value of 5 nearest neighbors measured by Euclidean distance.\n",
    "\n",
    "```python\n",
    "scaler = MinMaxScaler()\n",
    "df_ = pd.DataFrame(scaler.fit_transform(df), columns = df.columns)\n",
    "\n",
    "imputer = KNNImputer(n_neighbors=5)\n",
    "df_ = pd.DataFrame(imputer.fit_transform(df),columns = df.columns)\n",
    "df.head(10)\n",
    "```"
   ]
  },
  {
   "cell_type": "code",
   "execution_count": 170,
   "metadata": {},
   "outputs": [],
   "source": [
    "def fill_NaNs_KNN(dataframe):\n",
    "    X_cat = dataframe[[col for col in dataframe.columns if col.startswith('C_')]]\n",
    "    X_cont = dataframe[[col for col in dataframe.columns if col.startswith('x_')]]\n",
    "\n",
    "    ### 1. Fill NaN vlaues in continuous columns (X_cont)\n",
    "    scaler = StandardScaler()\n",
    "    scaled_X_cont = scaler.fit_transform(X_cont)\n",
    "    knn_imputer = KNNImputer(n_neighbors=5)\n",
    "    X_cont_imputed = knn_imputer.fit_transform(scaled_X_cont)\n",
    "    X_cont_imputed = pd.DataFrame(X_cont_imputed, columns=X_cont.columns)\n",
    "\n",
    "    ### 2. Fill NaN vlaues for the categorical columns (X_cat)\n",
    "    #cat_imputer = SimpleImputer(strategy=\"most_frequent\")\n",
    "    #X_cat_imputed = cat_imputer.fit_transform(X_cat)\n",
    "    #X_cat_imputed = pd.DataFrame(X_cat_imputed, columns=X_cat.columns)\n",
    "\n",
    "    ### 4. 1-HOT-encoding of categorical columns\n",
    "    #X_cat_imputed_1HOT = pd.get_dummies(X_cat_imputed, columns=X_cat_imputed.columns, drop_first=False).astype(int)\n",
    "    \n",
    "    ### 5. Merging y, X_con_imputed (standartized and NaN filled) and X_con_imputed_1HOT (NaN filled and relabelled, 1hotencoded)\n",
    "    df_trans = pd.concat([X_cont_imputed.reset_index(drop=True), X_cat.reset_index(drop=True)], axis=1)\n",
    "\n",
    "    return df_trans, df_trans.shape, scaler\n",
    "\n",
    "def centerData_y(y):\n",
    "    \n",
    "    y_mu = np.mean(y,axis=0)\n",
    "    y_centr = y - y_mu\n",
    "    \n",
    "    return y_centr, y_mu\n",
    "\n",
    "def cont_cat(dataframe):\n",
    "    X_cat = dataframe[[col for col in dataframe.columns if col.startswith('C_')]]\n",
    "    X_cont = dataframe[[col for col in dataframe.columns if col.startswith('x_')]]\n",
    "\n",
    "    return X_cont, X_cat\n",
    "\n",
    "def align_columns(Xtrain, Xtest):\n",
    "    # Find columns in Xtrain and Xtest\n",
    "    missing_in_Xtrain = set(Xtest.columns) - set(Xtrain.columns)\n",
    "    missing_in_Xtest = set(Xtrain.columns) - set(Xtest.columns)\n",
    "    \n",
    "    # Add missing columns to the respective DataFrames\n",
    "    for col in missing_in_Xtrain:\n",
    "        Xtrain[col] = np.nan  # or you can use 0 if preferred\n",
    "    \n",
    "    for col in missing_in_Xtest:\n",
    "        Xtest[col] = np.nan  # or you can use 0 if preferred\n",
    "\n",
    "    # Ensure columns are in the same order\n",
    "    Xtrain = Xtrain[Xtest.columns]\n",
    "\n",
    "    return Xtrain, Xtest"
   ]
  },
  {
   "cell_type": "markdown",
   "metadata": {},
   "source": [
    "#### Data split"
   ]
  },
  {
   "cell_type": "code",
   "execution_count": 171,
   "metadata": {},
   "outputs": [
    {
     "data": {
      "text/plain": [
       "'\\n# Handle missing values\\nXtrain, shape, scaler = fill_NaNs_KNN(Xtrain)\\n\\n# Preprocess test set using the same transformations\\nX_cont, X_cat = cont_cat(Xtest)\\nX_cont = pd.DataFrame(scaler.transform(X_cont), columns=X_cont.columns)\\nXtest = pd.concat([X_cont.reset_index(drop=True), X_cat.reset_index(drop=True)], axis=1)\\nXtest, ___, ___  = fill_NaNs_KNN(Xtest)\\n\\n# Center the target variable\\nytrain, y_mu = centerData_y(ytrain)\\nytest = ytest - y_mu\\n'"
      ]
     },
     "execution_count": 171,
     "metadata": {},
     "output_type": "execute_result"
    }
   ],
   "source": [
    "Xtrain, Xtest, ytrain, ytest = train_test_split(X, y, test_size=0.2)\n",
    "\n",
    "\"\"\"\n",
    "# Handle missing values\n",
    "Xtrain, shape, scaler = fill_NaNs_KNN(Xtrain)\n",
    "\n",
    "# Preprocess test set using the same transformations\n",
    "X_cont, X_cat = cont_cat(Xtest)\n",
    "X_cont = pd.DataFrame(scaler.transform(X_cont), columns=X_cont.columns)\n",
    "Xtest = pd.concat([X_cont.reset_index(drop=True), X_cat.reset_index(drop=True)], axis=1)\n",
    "Xtest, ___, ___  = fill_NaNs_KNN(Xtest)\n",
    "\n",
    "# Center the target variable\n",
    "ytrain, y_mu = centerData_y(ytrain)\n",
    "ytest = ytest - y_mu\n",
    "\"\"\""
   ]
  },
  {
   "cell_type": "markdown",
   "metadata": {},
   "source": [
    "### Ridge Regression"
   ]
  },
  {
   "cell_type": "code",
   "execution_count": 172,
   "metadata": {},
   "outputs": [
    {
     "name": "stdout",
     "output_type": "stream",
     "text": [
      "Best parameters for Ridge:  {'alpha': 10.0}\n",
      "Best cross-validation score: 0.6688\n",
      "R² score on test set: 0.7512\n"
     ]
    }
   ],
   "source": [
    "ridge = Ridge()\n",
    "\n",
    "# Define the hyperparameter grid\n",
    "param_grid_ridge = {\n",
    "    'alpha': np.logspace(-3, 1, 10)  # Removed extra '100' argument\n",
    "}\n",
    "\n",
    "# Use GridSearchCV **once** before the loop to avoid redundant computation\n",
    "Ridge_ = GridSearchCV(ridge, param_grid_ridge, cv=5, scoring='r2', n_jobs=-1)\n",
    "Ridge_.fit(Xtrain, ytrain)\n",
    "\n",
    "print(\"Best parameters for Ridge: \", Ridge_.best_params_)\n",
    "print(\"Best cross-validation score: {:.4f}\".format(Ridge_.best_score_))\n",
    "\n",
    "# Evaluate the best model on test data\n",
    "best_model_ridge = Ridge_.best_estimator_\n",
    "y_pred = best_model_ridge.predict(Xtest)\n",
    "\n",
    "test_r2 = r2_score(ytest, y_pred)\n",
    "print(\"R² score on test set: {:.4f}\".format(test_r2))"
   ]
  },
  {
   "cell_type": "code",
   "execution_count": 173,
   "metadata": {},
   "outputs": [
    {
     "name": "stdout",
     "output_type": "stream",
     "text": [
      "Best parameters for Lasso found:  {'alpha': 10.0}\n",
      "Best cross-validation score for Lasso: 0.6688\n",
      "R² score on test set: 0.7512\n"
     ]
    }
   ],
   "source": [
    "# Initialize the Lasso model\n",
    "ridge = Ridge()\n",
    "\n",
    "# Define the hyperparameter grid for Lasso\n",
    "param_grid_lasso = {\n",
    "    'alpha': np.logspace(-3, 1, 10)  # Fixed logspace range\n",
    "}\n",
    "\n",
    "# Set up the grid search with 5-fold cross-validation\n",
    "Ridge_ = GridSearchCV(ridge, param_grid_lasso, cv=5, scoring='r2')\n",
    "\n",
    "# Fit the grid search to your training data\n",
    "Ridge_.fit(Xtrain, ytrain)\n",
    "\n",
    "# Print the best parameters and score\n",
    "print(\"Best parameters for Lasso found: \", Ridge_.best_params_)\n",
    "print(\"Best cross-validation score for Lasso: {:.4f}\".format(Ridge_.best_score_))\n",
    "\n",
    "# Access the best model\n",
    "best_model_lasso = Ridge_.best_estimator_\n",
    "\n",
    "# Make predictions on the test set\n",
    "y_pred_lasso = best_model_lasso.predict(Xtest)\n",
    "\n",
    "# Optionally, you can also print the R² score of the model on the test set\n",
    "print(\"R² score on test set: {:.4f}\".format(r2_score(ytest, y_pred_lasso)))"
   ]
  },
  {
   "cell_type": "code",
   "execution_count": 116,
   "metadata": {},
   "outputs": [
    {
     "name": "stdout",
     "output_type": "stream",
     "text": [
      "One standard error rule selects model with alpha: 10.0\n",
      "One standard error rule gives the best model with mean_test_score: 0.697236655147853 and std_test_score: 0.037140182683620106\n"
     ]
    }
   ],
   "source": [
    "# Assuming you have already done GridSearchCV with Ridge as follows:\n",
    "# Ridge_ = GridSearchCV(ridge, param_grid_ridge, cv=5, scoring='r2')\n",
    "# Ridge_.fit(Xtrain, ytrain)\n",
    "\n",
    "meanError = list(Ridge_.cv_results_['mean_test_score'])\n",
    "stdError = Ridge_.cv_results_['std_test_score']\n",
    "\n",
    "# Find the index of the model with the highest mean test score\n",
    "maxAcc = meanError.index(max(meanError))\n",
    "\n",
    "# Apply the One Standard Error Rule to find acceptable models\n",
    "# We flip the sign of the std_error and compare\n",
    "J = np.where(meanError[maxAcc] - stdError[maxAcc] < meanError)[0]\n",
    "\n",
    "if len(J) > 0:\n",
    "    j = int(J[-1])  # Select the most regularized model (simpler)\n",
    "else:\n",
    "    j = maxAcc  # If no model satisfies the rule, keep the best one\n",
    "\n",
    "# Print the hyperparameters of the selected model\n",
    "print(f'One standard error rule selects model with alpha: {Ridge_.cv_results_[\"param_alpha\"][j]}')\n",
    "print(f'One standard error rule gives the best model with mean_test_score: {meanError[j]} and std_test_score: {stdError[j]}')"
   ]
  },
  {
   "cell_type": "markdown",
   "metadata": {},
   "source": [
    "### Lasso Regression"
   ]
  },
  {
   "cell_type": "code",
   "execution_count": 175,
   "metadata": {},
   "outputs": [
    {
     "name": "stdout",
     "output_type": "stream",
     "text": [
      "Best parameters for Lasso found:  {'alpha': 1.2915496650148828}\n",
      "Best cross-validation score for Lasso: 0.7699\n",
      "R² score on test set: 0.8184\n"
     ]
    }
   ],
   "source": [
    "# Initialize the Lasso model\n",
    "lasso = Lasso()\n",
    "\n",
    "# Define the hyperparameter grid for Lasso\n",
    "param_grid_lasso = {\n",
    "    'alpha': np.logspace(-3, 1, 10)  # Fixed logspace range\n",
    "}\n",
    "\n",
    "# Set up the grid search with 5-fold cross-validation\n",
    "Lasso_ = GridSearchCV(lasso, param_grid_lasso, cv=5, scoring='r2')\n",
    "\n",
    "# Fit the grid search to your training data\n",
    "Lasso_.fit(Xtrain, ytrain)\n",
    "\n",
    "# Print the best parameters and score\n",
    "print(\"Best parameters for Lasso found: \", Lasso_.best_params_)\n",
    "print(\"Best cross-validation score for Lasso: {:.4f}\".format(Lasso_.best_score_))\n",
    "\n",
    "# Access the best model\n",
    "best_model_lasso = Lasso_.best_estimator_\n",
    "\n",
    "# Make predictions on the test set\n",
    "y_pred_lasso = best_model_lasso.predict(Xtest)\n",
    "\n",
    "# Optionally, you can also print the R² score of the model on the test set\n",
    "print(\"R² score on test set: {:.4f}\".format(r2_score(ytest, y_pred_lasso)))"
   ]
  },
  {
   "cell_type": "code",
   "execution_count": 176,
   "metadata": {},
   "outputs": [
    {
     "name": "stdout",
     "output_type": "stream",
     "text": [
      "One standard error rule selects model with alpha: 3.593813663804626\n",
      "One standard error rule gives the best model with mean_test_score: 0.7478413152719225 and std_test_score: 0.04548354389555182\n"
     ]
    }
   ],
   "source": [
    "# Assuming you have already done GridSearchCV with Ridge as follows:\n",
    "# Ridge_ = GridSearchCV(ridge, param_grid_ridge, cv=5, scoring='r2')\n",
    "# Ridge_.fit(Xtrain, ytrain)\n",
    "\n",
    "meanError = list(Lasso_.cv_results_['mean_test_score'])\n",
    "stdError = Lasso_.cv_results_['std_test_score']\n",
    "\n",
    "# Find the index of the model with the highest mean test score\n",
    "maxAcc = meanError.index(max(meanError))\n",
    "\n",
    "# Apply the One Standard Error Rule to find acceptable models\n",
    "# We flip the sign of the std_error and compare\n",
    "J = np.where(meanError[maxAcc] - stdError[maxAcc] < meanError)[0]\n",
    "\n",
    "if len(J) > 0:\n",
    "    j = int(J[-1])  # Select the most regularized model (simpler)\n",
    "else:\n",
    "    j = maxAcc  # If no model satisfies the rule, keep the best one\n",
    "\n",
    "# Print the hyperparameters of the selected model\n",
    "print(f'One standard error rule selects model with alpha: {Lasso_.cv_results_[\"param_alpha\"][j]}')\n",
    "print(f'One standard error rule gives the best model with mean_test_score: {meanError[j]} and std_test_score: {stdError[j]}')"
   ]
  },
  {
   "cell_type": "markdown",
   "metadata": {},
   "source": [
    "### ElasticNEt REgression"
   ]
  },
  {
   "cell_type": "code",
   "execution_count": 177,
   "metadata": {},
   "outputs": [
    {
     "name": "stdout",
     "output_type": "stream",
     "text": [
      "Best parameters for ElasticNet found:  {'alpha': 1.2915496650148828, 'l1_ratio': 1}\n",
      "Best cross-validation score for ElasticNet: 0.7699\n",
      "R² score on test set: 0.8184\n"
     ]
    }
   ],
   "source": [
    "# Initialize the ElasticNet model\n",
    "elasticNet = ElasticNet()\n",
    "\n",
    "# Define the hyperparameter grid for ElasticNet\n",
    "param_grid_en = {\n",
    "    'alpha': np.logspace(-3, 1, 10),  # Fixed logspace range\n",
    "    'l1_ratio': [0.01, 0.05, 0.1, 0.2, 0.3, 0.4, 0.5, 0.6, 0.7, 0.8, 0.9, 0.95, 1]\n",
    "}\n",
    "\n",
    "# Set up the grid search with 5-fold cross-validation\n",
    "EN_ = GridSearchCV(elasticNet, param_grid_en, cv=5, scoring='r2')\n",
    "\n",
    "# Fit the grid search to your training data\n",
    "EN_.fit(Xtrain, ytrain)\n",
    "\n",
    "# Print the best parameters and score\n",
    "print(\"Best parameters for ElasticNet found: \", EN_.best_params_)\n",
    "print(\"Best cross-validation score for ElasticNet: {:.4f}\".format(EN_.best_score_))\n",
    "\n",
    "# Access the best model\n",
    "best_model_en = EN_.best_estimator_\n",
    "\n",
    "# Make predictions on the test set\n",
    "y_pred_en = best_model_en.predict(Xtest)\n",
    "\n",
    "# Optionally, you can also print the R² score of the model on the test set\n",
    "print(\"R² score on test set: {:.4f}\".format(r2_score(ytest, y_pred_en)))"
   ]
  },
  {
   "cell_type": "code",
   "execution_count": 122,
   "metadata": {},
   "outputs": [
    {
     "name": "stdout",
     "output_type": "stream",
     "text": [
      "One standard error rule selects model with alpha: 3.593813663804626 and l1_ratio: 1.0\n",
      "One standard error rule gives the best model with mean_test_score: 0.7356376805273518 and std_test_score: 0.09537447132149227\n"
     ]
    }
   ],
   "source": [
    "# Assuming you've already performed GridSearchCV with ElasticNet (EN_)\n",
    "# EN_ = GridSearchCV(en_model, param_grid_en, cv=5, scoring='r2')\n",
    "# EN_.fit(Xtrain, ytrain)\n",
    "\n",
    "# Retrieve the cross-validation results for ElasticNet\n",
    "meanError = list(EN_.cv_results_['mean_test_score'])\n",
    "stdError = EN_.cv_results_['std_test_score']\n",
    "\n",
    "# Find the index of the model with the highest mean test score\n",
    "maxAcc = meanError.index(max(meanError))\n",
    "\n",
    "# Apply the One Standard Error Rule to find acceptable models\n",
    "# We check if any models' mean test score is within one standard error of the best model's score\n",
    "J = np.where(meanError[maxAcc] - stdError[maxAcc] < meanError)[0]\n",
    "\n",
    "if len(J) > 0:\n",
    "    j = int(J[-1])  # Select the most regularized model (simpler model with a higher alpha)\n",
    "else:\n",
    "    j = maxAcc  # If no model satisfies the rule, keep the best one\n",
    "\n",
    "# Print the hyperparameters of the selected model\n",
    "selected_alpha = EN_.cv_results_['param_alpha'][j]\n",
    "selected_l1_ratio = EN_.cv_results_['param_l1_ratio'][j]\n",
    "\n",
    "print(f'One standard error rule selects model with alpha: {selected_alpha} and l1_ratio: {selected_l1_ratio}')\n",
    "print(f'One standard error rule gives the best model with mean_test_score: {meanError[j]} and std_test_score: {stdError[j]}')"
   ]
  },
  {
   "cell_type": "code",
   "execution_count": null,
   "metadata": {},
   "outputs": [
    {
     "name": "stdout",
     "output_type": "stream",
     "text": [
      "R² score for Ridge: 0.7512\n",
      "R² score for Lasso: 0.8270\n",
      "R² score for ElasticNet: 0.8270\n"
     ]
    }
   ],
   "source": [
    "# Ridge Model (alpha=10)\n",
    "ridge = Ridge(alpha=10)\n",
    "ridge.fit(Xtrain, ytrain)\n",
    "y_pred_ridge = ridge.predict(Xtest)\n",
    "r2_ridge = r2_score(ytest, y_pred_ridge)\n",
    "print(f'R² score for Ridge: {r2_ridge:.4f}')\n",
    "\n",
    "# Lasso Model (alpha=3.593813663804626)\n",
    "lasso = Lasso(alpha=3.593813663804626)\n",
    "lasso.fit(Xtrain, ytrain)\n",
    "y_pred_lasso = lasso.predict(Xtest)\n",
    "r2_lasso = r2_score(ytest, y_pred_lasso)\n",
    "print(f'R² score for Lasso: {r2_lasso:.4f}')\n",
    "\n",
    "# ElasticNet Model (alpha=3.593813663804626, l1_ratio=1.0)\n",
    "en = ElasticNet(alpha=3.593813663804626, l1_ratio=1.0)\n",
    "en.fit(Xtrain, ytrain)\n",
    "y_pred_en = en.predict(Xtest)\n",
    "r2_en = r2_score(ytest, y_pred_en)\n",
    "print(f'R² score for ElasticNet: {r2_en:.4f}')"
   ]
  },
  {
   "cell_type": "code",
   "execution_count": 211,
   "metadata": {},
   "outputs": [
    {
     "data": {
      "image/png": "[encoded data removed]",
      "text/plain": [
       "<Figure size 1500x500 with 3 Axes>"
      ]
     },
     "metadata": {},
     "output_type": "display_data"
    }
   ],
   "source": [
    "# Feature names (assuming Xtrain is a DataFrame, otherwise use indices)\n",
    "feature_names = Xtrain.columns\n",
    "\n",
    "def get_top_features(model):\n",
    "    \"\"\"Extract top 10 features based on absolute weight values.\"\"\"\n",
    "    coef = model.coef_\n",
    "    abs_coef = np.abs(coef)\n",
    "    \n",
    "    # Get indices of top 10 features\n",
    "    top_indices = np.argsort(abs_coef)[-10:]  # Top 10 by absolute magnitude\n",
    "    \n",
    "    # Get feature names and corresponding values\n",
    "    top_features = [feature_names[i] for i in top_indices]\n",
    "    top_values = coef[top_indices]\n",
    "    \n",
    "    return top_features, top_values\n",
    "\n",
    "# Get top features for each model\n",
    "ridge_features, ridge_values = get_top_features(ridge)\n",
    "lasso_features, lasso_values = get_top_features(lasso)\n",
    "en_features, en_values = get_top_features(en)\n",
    "\n",
    "# Create subplots\n",
    "fig, axes = plt.subplots(1, 3, figsize=(15, 5))\n",
    "\n",
    "# Use Seaborn style for pastel aesthetics\n",
    "sns.set_style(\"whitegrid\")\n",
    "\n",
    "# Define pastel colors\n",
    "colors = [\"#A7C7E7\", \"#FFB6C1\", \"#98FB98\"]  # Pastel Blue, Pastel Pink, Pastel Green\n",
    "\n",
    "# Function to plot bars with values on top\n",
    "def plot_feature_importance(ax, features, values, title, color, xlim_range):\n",
    "    ax.barh(features, values, color=color)\n",
    "    ax.set_title(title)\n",
    "    ax.set_xlabel(\"Coefficient Value\")\n",
    "    ax.set_ylabel(\"Feature\")\n",
    "    ax.grid(axis='x', linestyle='--', alpha=0.5)\n",
    "    ax.set_xlim(xlim_range[0], xlim_range[1])\n",
    "    ax.set_xticks(np.arange(xlim_range[0], xlim_range[1], 5))\n",
    "\n",
    "    # Add value labels\n",
    "    for i, v in enumerate(values):\n",
    "        ax.text(v, i, f\"{v:.2f}\", va='center', ha=\"left\" if v > 0 else \"right\", fontsize=10)\n",
    "\n",
    "# Plot Ridge\n",
    "plot_feature_importance(axes[0], ridge_features, ridge_values, \"Top 10 Features - Ridge Regression\", colors[0], (-15, 30))\n",
    "\n",
    "# Plot Lasso\n",
    "plot_feature_importance(axes[1], lasso_features, lasso_values, \"Top 10 Features - Lasso Regression\", colors[1], (-25, 60))\n",
    "\n",
    "# Plot ElasticNet\n",
    "plot_feature_importance(axes[2], en_features, en_values, \"Top 10 Features - ElasticNet Regression\", colors[2], (-25, 60))\n",
    "\n",
    "# Adjust layout\n",
    "plt.tight_layout()\n",
    "plt.show()"
   ]
  }
 ],
 "metadata": {
  "kernelspec": {
   "display_name": "base",
   "language": "python",
   "name": "python3"
  },
  "language_info": {
   "codemirror_mode": {
    "name": "ipython",
    "version": 3
   },
   "file_extension": ".py",
   "mimetype": "text/x-python",
   "name": "python",
   "nbconvert_exporter": "python",
   "pygments_lexer": "ipython3",
   "version": "3.12.7"
  }
 },
 "nbformat": 4,
 "nbformat_minor": 2
}
