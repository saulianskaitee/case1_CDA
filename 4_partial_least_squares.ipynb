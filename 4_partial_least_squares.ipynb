{
 "cells": [
  {
   "cell_type": "markdown",
   "metadata": {},
   "source": [
    "# Partial Least Squares"
   ]
  },
  {
   "cell_type": "markdown",
   "metadata": {},
   "source": [
    "### Import necessary modules for PLS"
   ]
  },
  {
   "cell_type": "code",
   "execution_count": 3,
   "metadata": {},
   "outputs": [],
   "source": [
    "import pandas as pd\n",
    "import numpy as np\n",
    "from sklearn.preprocessing import StandardScaler, MinMaxScaler\n",
    "from sklearn.cross_decomposition import PLSRegression\n",
    "from sklearn.impute import KNNImputer, SimpleImputer\n",
    "from sklearn.metrics import mean_squared_error, r2_score, root_mean_squared_error\n",
    "import matplotlib.pyplot as plt\n",
    "import seaborn as sns\n",
    "from sklearn.model_selection import RepeatedKFold, train_test_split, GridSearchCV, learning_curve, KFold"
   ]
  },
  {
   "cell_type": "markdown",
   "metadata": {},
   "source": [
    "### Load dataframe"
   ]
  },
  {
   "cell_type": "code",
   "execution_count": 4,
   "metadata": {},
   "outputs": [
    {
     "name": "stdout",
     "output_type": "stream",
     "text": [
      "Shape of Xtrain: 80 samples, 116 features\n",
      "Shape of Xtest: 20 samples, 116 features\n"
     ]
    },
    {
     "data": {
      "text/html": [
       "<div>\n",
       "<style scoped>\n",
       "    .dataframe tbody tr th:only-of-type {\n",
       "        vertical-align: middle;\n",
       "    }\n",
       "\n",
       "    .dataframe tbody tr th {\n",
       "        vertical-align: top;\n",
       "    }\n",
       "\n",
       "    .dataframe thead th {\n",
       "        text-align: right;\n",
       "    }\n",
       "</style>\n",
       "<table border=\"1\" class=\"dataframe\">\n",
       "  <thead>\n",
       "    <tr style=\"text-align: right;\">\n",
       "      <th></th>\n",
       "      <th>x_01</th>\n",
       "      <th>x_02</th>\n",
       "      <th>x_03</th>\n",
       "      <th>x_04</th>\n",
       "      <th>x_05</th>\n",
       "      <th>x_06</th>\n",
       "      <th>x_07</th>\n",
       "      <th>x_08</th>\n",
       "      <th>x_09</th>\n",
       "      <th>x_10</th>\n",
       "      <th>...</th>\n",
       "      <th>C_04_71.0</th>\n",
       "      <th>C_04_72.0</th>\n",
       "      <th>C_04_73.0</th>\n",
       "      <th>C_04_74.0</th>\n",
       "      <th>C_04_75.0</th>\n",
       "      <th>C_05_71.0</th>\n",
       "      <th>C_05_72.0</th>\n",
       "      <th>C_05_73.0</th>\n",
       "      <th>C_05_74.0</th>\n",
       "      <th>C_05_75.0</th>\n",
       "    </tr>\n",
       "  </thead>\n",
       "  <tbody>\n",
       "    <tr>\n",
       "      <th>0</th>\n",
       "      <td>0.841004</td>\n",
       "      <td>-0.684825</td>\n",
       "      <td>0.914453</td>\n",
       "      <td>0.369843</td>\n",
       "      <td>0.287951</td>\n",
       "      <td>-0.269598</td>\n",
       "      <td>-1.532422</td>\n",
       "      <td>0.202755</td>\n",
       "      <td>0.598845</td>\n",
       "      <td>0.555123</td>\n",
       "      <td>...</td>\n",
       "      <td>0</td>\n",
       "      <td>0</td>\n",
       "      <td>0</td>\n",
       "      <td>1</td>\n",
       "      <td>0</td>\n",
       "      <td>0</td>\n",
       "      <td>0</td>\n",
       "      <td>0</td>\n",
       "      <td>1</td>\n",
       "      <td>0</td>\n",
       "    </tr>\n",
       "    <tr>\n",
       "      <th>1</th>\n",
       "      <td>-0.183416</td>\n",
       "      <td>0.994827</td>\n",
       "      <td>0.274484</td>\n",
       "      <td>0.896056</td>\n",
       "      <td>0.338138</td>\n",
       "      <td>-0.632974</td>\n",
       "      <td>0.869122</td>\n",
       "      <td>0.173345</td>\n",
       "      <td>-0.045464</td>\n",
       "      <td>0.914123</td>\n",
       "      <td>...</td>\n",
       "      <td>0</td>\n",
       "      <td>0</td>\n",
       "      <td>0</td>\n",
       "      <td>0</td>\n",
       "      <td>1</td>\n",
       "      <td>0</td>\n",
       "      <td>0</td>\n",
       "      <td>0</td>\n",
       "      <td>0</td>\n",
       "      <td>1</td>\n",
       "    </tr>\n",
       "    <tr>\n",
       "      <th>2</th>\n",
       "      <td>-2.395578</td>\n",
       "      <td>0.377075</td>\n",
       "      <td>-2.004454</td>\n",
       "      <td>-1.467210</td>\n",
       "      <td>-0.523651</td>\n",
       "      <td>-0.102531</td>\n",
       "      <td>0.665450</td>\n",
       "      <td>-1.379531</td>\n",
       "      <td>-1.303042</td>\n",
       "      <td>-0.096789</td>\n",
       "      <td>...</td>\n",
       "      <td>0</td>\n",
       "      <td>0</td>\n",
       "      <td>0</td>\n",
       "      <td>1</td>\n",
       "      <td>0</td>\n",
       "      <td>0</td>\n",
       "      <td>0</td>\n",
       "      <td>1</td>\n",
       "      <td>0</td>\n",
       "      <td>0</td>\n",
       "    </tr>\n",
       "  </tbody>\n",
       "</table>\n",
       "<p>3 rows × 116 columns</p>\n",
       "</div>"
      ],
      "text/plain": [
       "       x_01      x_02      x_03      x_04      x_05      x_06      x_07  \\\n",
       "0  0.841004 -0.684825  0.914453  0.369843  0.287951 -0.269598 -1.532422   \n",
       "1 -0.183416  0.994827  0.274484  0.896056  0.338138 -0.632974  0.869122   \n",
       "2 -2.395578  0.377075 -2.004454 -1.467210 -0.523651 -0.102531  0.665450   \n",
       "\n",
       "       x_08      x_09      x_10  ...  C_04_71.0  C_04_72.0  C_04_73.0  \\\n",
       "0  0.202755  0.598845  0.555123  ...          0          0          0   \n",
       "1  0.173345 -0.045464  0.914123  ...          0          0          0   \n",
       "2 -1.379531 -1.303042 -0.096789  ...          0          0          0   \n",
       "\n",
       "   C_04_74.0  C_04_75.0  C_05_71.0  C_05_72.0  C_05_73.0  C_05_74.0  C_05_75.0  \n",
       "0          1          0          0          0          0          1          0  \n",
       "1          0          1          0          0          0          0          1  \n",
       "2          1          0          0          0          1          0          0  \n",
       "\n",
       "[3 rows x 116 columns]"
      ]
     },
     "execution_count": 4,
     "metadata": {},
     "output_type": "execute_result"
    }
   ],
   "source": [
    "Xtrain = pd.read_csv(\"Xytrain_regression.csv\").iloc[:, 1:]\n",
    "ytrain = pd.read_csv(\"Xytrain_regression.csv\").iloc[:, 0]\n",
    "\n",
    "Xtest = pd.read_csv(\"Xytest_regression.csv\").iloc[:, 1:]\n",
    "ytest = pd.read_csv(\"Xytest_regression.csv\").iloc[:, 0]\n",
    "\n",
    "n, p = Xtrain.shape\n",
    "print(f\"Shape of Xtrain: {n} samples, {p} features\")\n",
    "print(f\"Shape of Xtest: {Xtest.shape[0]} samples, {Xtest.shape[1]} features\")\n",
    "Xtrain.head(3)"
   ]
  },
  {
   "cell_type": "markdown",
   "metadata": {},
   "source": [
    "### PLS"
   ]
  },
  {
   "cell_type": "code",
   "execution_count": 5,
   "metadata": {},
   "outputs": [
    {
     "name": "stdout",
     "output_type": "stream",
     "text": [
      "Mean Squared Error: 1316.6294523347967\n",
      "R-squared: 0.7442187654432683\n",
      "Root Mean Squared Error: 36.285388964909785\n"
     ]
    },
    {
     "data": {
      "image/png": "[encoded data removed]",
      "text/plain": [
       "<Figure size 600x400 with 1 Axes>"
      ]
     },
     "metadata": {},
     "output_type": "display_data"
    }
   ],
   "source": [
    "# Initialize and fit the PLS model\n",
    "pls = PLSRegression(n_components=4)  # Choose the number of components\n",
    "pls.fit(Xtrain, ytrain)\n",
    "\n",
    "# Make predictions\n",
    "y_pred = pls.predict(Xtest)\n",
    "\n",
    "# Evaluate the model\n",
    "mse = mean_squared_error(ytest, y_pred)\n",
    "r2 = r2_score(ytest, y_pred)\n",
    "rmse = root_mean_squared_error(ytest, y_pred)\n",
    "print(f'Mean Squared Error: {mse}')\n",
    "print(f'R-squared: {r2}')\n",
    "print(f'Root Mean Squared Error: {rmse}')\n",
    "\n",
    "# Plot the results\n",
    "plt.figure(figsize=(6, 4))\n",
    "plt.scatter(ytest, y_pred)\n",
    "plt.xlabel(\"True Values\")\n",
    "plt.ylabel(\"Predictions\")\n",
    "plt.show()"
   ]
  },
  {
   "cell_type": "code",
   "execution_count": 6,
   "metadata": {},
   "outputs": [
    {
     "name": "stdout",
     "output_type": "stream",
     "text": [
      "Best parameters for Ridge:  {'n_components': 10}\n",
      "Best cross-validation score: 0.7332\n",
      "R² Score on the test dataset: 0.7708\n",
      "MSE on the test dataset: 1179.6476\n",
      "RMSE on the test dataset: 34.3460\n"
     ]
    },
    {
     "data": {
      "image/png": "[encoded data removed]",
      "text/plain": [
       "<Figure size 600x300 with 1 Axes>"
      ]
     },
     "metadata": {},
     "output_type": "display_data"
    },
    {
     "name": "stdout",
     "output_type": "stream",
     "text": [
      "Best estimator: PLSRegression(n_components=10, scale=False)\n"
     ]
    }
   ],
   "source": [
    "# Initialize and fit the PLS model\n",
    "pls = PLSRegression(scale=False)  # the data is already normalized\n",
    "\n",
    "# Define the hyperparameter grid for alpha\n",
    "param_pls_pc = {\n",
    "    'n_components': range(1, p+1)\n",
    "    }\n",
    "\n",
    "# Define KFold cross-validation\n",
    "cv = KFold(n_splits=10, shuffle=True, random_state=42)\n",
    "\n",
    "# Use GridSearchCV with the KFold object\n",
    "PLS_ = GridSearchCV(pls, param_pls_pc, cv=cv, n_jobs=-1, return_train_score=True, scoring='r2')\n",
    "\n",
    "# Fit the GridSearchCV\n",
    "PLS_.fit(Xtrain, ytrain)\n",
    "\n",
    "# Print best parameters and best cross-validation score\n",
    "print(\"Best parameters for Ridge: \", PLS_.best_params_)\n",
    "print(\"Best cross-validation score: {:.4f}\".format(PLS_.best_score_))\n",
    "\n",
    "# Evaluate the best model on the test data\n",
    "best_model_ridge = PLS_.best_estimator_\n",
    "y_pred_pls = best_model_ridge.predict(Xtest)\n",
    "\n",
    "# Calculate R² score on test set\n",
    "test_R2 = r2_score(ytest, y_pred_pls)\n",
    "test_MSE = mean_squared_error(ytest, y_pred_pls)\n",
    "test_RMSE = root_mean_squared_error(ytest, y_pred_pls)\n",
    "\n",
    "print(\"R² Score on the test dataset: {:.4f}\".format(test_R2))\n",
    "print(\"MSE on the test dataset: {:.4f}\".format(test_MSE))\n",
    "print(\"RMSE on the test dataset: {:.4f}\".format(test_RMSE))\n",
    "\n",
    "# Get the mean test scores from the cross-validation results\n",
    "n_components = range(1, p+1)\n",
    "mean_test_scores = PLS_.cv_results_['mean_test_score']\n",
    "\n",
    "# Plot the results of hyperparameter tuning\n",
    "plt.figure(figsize=(6, 3))\n",
    "plt.plot(n_components, mean_test_scores, linestyle='-', color='b', label='R² Score')\n",
    "plt.axvline(PLS_.best_params_['n_components'], color='r', linestyle='--', label=f\"Best: {PLS_.best_params_['n_components']}\")\n",
    "plt.xlabel('Number of PCs')\n",
    "plt.ylabel('R² Score')\n",
    "plt.title('PC Tuning')\n",
    "plt.legend()\n",
    "plt.grid(True, linestyle='--', alpha=0.5)\n",
    "plt.show()\n",
    "\n",
    "# Print best estimator\n",
    "print(f'Best estimator: {PLS_.best_estimator_}')"
   ]
  },
  {
   "cell_type": "code",
   "execution_count": 7,
   "metadata": {},
   "outputs": [
    {
     "name": "stdout",
     "output_type": "stream",
     "text": [
      "One standard error rule selects model with n_components: 4\n",
      "One standard error rule gives the best model with mean_test_score (R²): 0.6732887067002881 and std_test_score: 0.12593655491788544\n"
     ]
    }
   ],
   "source": [
    "# Get the mean test R² scores and standard deviations\n",
    "meanError = list(PLS_.cv_results_['mean_test_score'])\n",
    "stdError = PLS_.cv_results_['std_test_score']\n",
    "\n",
    "# Find the index of the model with the highest mean R² score\n",
    "maxAcc = meanError.index(max(meanError))\n",
    "#print(meanError[maxAcc])\n",
    "#print(stdError[maxAcc])\n",
    "\n",
    "# Apply the One Standard Error Rule to find acceptable models\n",
    "J = np.where(meanError[maxAcc] - stdError[maxAcc] < meanError)[0]\n",
    "#print(J)\n",
    "\n",
    "# Select the model with the lowest n_components (if there are multiple models that satisfy the condition)\n",
    "if len(J) > 0:\n",
    "    j = int(J[0])  # Select the most regularized model (simpler)\n",
    "else:\n",
    "    j = maxAcc  # If no model satisfies the rule, keep the best one\n",
    "\n",
    "# Print the hyperparameters of the selected model\n",
    "print(f'One standard error rule selects model with n_components: {PLS_.cv_results_[\"param_n_components\"][j]}')\n",
    "print(f'One standard error rule gives the best model with mean_test_score (R²): {meanError[j]} and std_test_score: {stdError[j]}')"
   ]
  },
  {
   "cell_type": "markdown",
   "metadata": {},
   "source": [
    "Since the grid search found 10 components as the best model, it’s reasonable to prioritize that over the selection made by the One Standard Error Rule, especially if 10 components already provide a solid performance with minimal overfitting."
   ]
  },
  {
   "cell_type": "code",
   "execution_count": 8,
   "metadata": {},
   "outputs": [
    {
     "name": "stdout",
     "output_type": "stream",
     "text": [
      "R² score for Ridge: 0.7442\n",
      "Mean Squared Error (MSE): 1316.63\n",
      "Root Mean Squared Error (RMSE): 36.29\n",
      "Standard Deviation of Actual Values: 73.61\n"
     ]
    }
   ],
   "source": [
    "n_components = PLS_.cv_results_[\"param_n_components\"][j]\n",
    "\n",
    "# Ridge Model (alpha=10)\n",
    "PLS_ = PLSRegression(n_components=n_components)\n",
    "PLS_.fit(Xtrain, ytrain)\n",
    "y_pred_pls = PLS_.predict(Xtest)\n",
    "\n",
    "df_compare = pd.DataFrame({\n",
    "    'Actual': ytest,\n",
    "    'Predicted': y_pred_pls,\n",
    "    'Squared Error (SE)': (ytest - y_pred_pls) ** 2,  # Squared error\n",
    "    'Absolute Error (AE)': np.abs(ytest - y_pred_pls)  # Absolute error\n",
    "})\n",
    "\n",
    "mse = df_compare[\"Squared Error (SE)\"].mean()\n",
    "rmse = np.sqrt(mse)\n",
    "\n",
    "r2_ridge = r2_score(ytest, y_pred_pls)\n",
    "print(f'R² score for Ridge: {r2_ridge:.4f}')\n",
    "\n",
    "print(f\"Mean Squared Error (MSE): {mse:.2f}\")\n",
    "print(f\"Root Mean Squared Error (RMSE): {rmse:.2f}\")\n",
    "\n",
    "std_actual = df_compare[\"Actual\"].std()\n",
    "print(f\"Standard Deviation of Actual Values: {std_actual:.2f}\")\n",
    "\n",
    "#If RMSE < std_actual: The model is reasonably good.\n",
    "#If RMSE ≈ std_actual: The model is performing just like a simple average prediction.\n",
    "#If RMSE > std_actual: The model is performing poorly"
   ]
  }
 ],
 "metadata": {
  "kernelspec": {
   "display_name": "base",
   "language": "python",
   "name": "python3"
  },
  "language_info": {
   "codemirror_mode": {
    "name": "ipython",
    "version": 3
   },
   "file_extension": ".py",
   "mimetype": "text/x-python",
   "name": "python",
   "nbconvert_exporter": "python",
   "pygments_lexer": "ipython3",
   "version": "3.12.7"
  }
 },
 "nbformat": 4,
 "nbformat_minor": 2
}
